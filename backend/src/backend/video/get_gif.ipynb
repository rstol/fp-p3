{
 "cells": [
  {
   "cell_type": "code",
   "execution_count": 1,
   "id": "578d810c",
   "metadata": {},
   "outputs": [],
   "source": [
    "# So it findes the correct module when importing dataset manager\n",
    "import sys, os\n",
    "\n",
    "# Compute the path up to `…/backend/src`\n",
    "src_root = os.path.abspath(\n",
    "    os.path.join(os.getcwd(), '..', '..')\n",
    ")\n",
    "if src_root not in sys.path:\n",
    "    sys.path.insert(0, src_root)"
   ]
  },
  {
   "cell_type": "code",
   "execution_count": 2,
   "id": "aaf999d8",
   "metadata": {},
   "outputs": [],
   "source": [
    "from backend.resources.dataset_manager import DatasetManager\n",
    "from backend.settings import TRACKING_DIR\n",
    "from Event import Event"
   ]
  },
  {
   "cell_type": "code",
   "execution_count": 3,
   "id": "41fc6db4",
   "metadata": {},
   "outputs": [],
   "source": [
    "dataset_manager = DatasetManager(TRACKING_DIR)"
   ]
  },
  {
   "cell_type": "code",
   "execution_count": 4,
   "id": "d054bc9e",
   "metadata": {},
   "outputs": [],
   "source": [
    "game_id = '0021500115'\n",
    "event_id = '2'\n",
    "event_json = dataset_manager.get_play_id(game_id, event_id)\n",
    "game = dataset_manager.get_game_details(game_id)\n",
    "home = dataset_manager.get_team_details(game['home_team_id'])\n",
    "visitor = dataset_manager.get_team_details(game['visitor_team_id'])\n",
    "event = Event(event_json, home, visitor)"
   ]
  },
  {
   "cell_type": "code",
   "execution_count": 5,
   "id": "35b01624",
   "metadata": {},
   "outputs": [
    {
     "name": "stderr",
     "output_type": "stream",
     "text": [
      "INFO:matplotlib.animation:Animation.save using <class 'matplotlib.animation.FFMpegWriter'>\n",
      "INFO:matplotlib.animation:MovieWriter._run: running command: ffmpeg -f rawvideo -vcodec rawvideo -s 640x480 -pix_fmt rgba -framerate 12 -loglevel error -i pipe: -vcodec h264 -pix_fmt yuv420p -y output/game0021500115play2.mp4\n"
     ]
    },
    {
     "name": "stdout",
     "output_type": "stream",
     "text": [
      "Saved animation to output/game0021500115play2.mp4\n"
     ]
    }
   ],
   "source": [
    "event.generate_mp4html(output=False, save=True)"
   ]
  },
  {
   "cell_type": "code",
   "execution_count": 6,
   "id": "741f17cd",
   "metadata": {},
   "outputs": [],
   "source": [
    "# from IPython.display import HTML"
   ]
  },
  {
   "cell_type": "code",
   "execution_count": 7,
   "id": "da4e70e9",
   "metadata": {},
   "outputs": [],
   "source": [
    "# html_mp4 = event.generate_mp4html(output=False, save=True)"
   ]
  },
  {
   "cell_type": "code",
   "execution_count": 8,
   "id": "14ee7e49",
   "metadata": {},
   "outputs": [],
   "source": [
    "# HTML(html_mp4)"
   ]
  }
 ],
 "metadata": {
  "kernelspec": {
   "display_name": "xaimlenv",
   "language": "python",
   "name": "python3"
  },
  "language_info": {
   "codemirror_mode": {
    "name": "ipython",
    "version": 3
   },
   "file_extension": ".py",
   "mimetype": "text/x-python",
   "name": "python",
   "nbconvert_exporter": "python",
   "pygments_lexer": "ipython3",
   "version": "3.13.3"
  }
 },
 "nbformat": 4,
 "nbformat_minor": 5
}
